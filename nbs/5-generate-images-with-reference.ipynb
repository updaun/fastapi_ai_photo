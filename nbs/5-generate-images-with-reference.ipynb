{
 "cells": [
  {
   "cell_type": "code",
   "execution_count": 1,
   "metadata": {},
   "outputs": [],
   "source": [
    "import pathlib\n",
    "\n",
    "NBS_DIR = pathlib.Path().resolve()\n",
    "REPO_DIR = NBS_DIR.parent\n",
    "DATA_DIR = REPO_DIR / \"data\"\n",
    "GENERATED_DIR = DATA_DIR / \"generated\"\n",
    "GENERATED_DIR.mkdir(exist_ok=True, parents=True)\n",
    "REFERENCES_DIR = DATA_DIR / \"references\"\n",
    "REFERENCES_DIR.mkdir(exist_ok=True, parents=True)"
   ]
  },
  {
   "cell_type": "code",
   "execution_count": 2,
   "metadata": {},
   "outputs": [
    {
     "data": {
      "text/plain": [
       "'l-league-inc/superme-hymin-v1'"
      ]
     },
     "execution_count": 2,
     "metadata": {},
     "output_type": "execute_result"
    }
   ],
   "source": [
    "from decouple import AutoConfig\n",
    "\n",
    "config = AutoConfig(\".env\")\n",
    "\n",
    "REPLICATE_API_TOKEN = config(\"REPLICATE_API_TOKEN\")\n",
    "REPLICATE_MODEL = config(\"REPLICATE_MODEL\")\n",
    "REPLICATE_MODEL_VERSION = config(\"REPLICATE_MODEL_VERSION\")\n",
    "\n",
    "REPLICATE_MODEL"
   ]
  },
  {
   "cell_type": "code",
   "execution_count": 11,
   "metadata": {},
   "outputs": [],
   "source": [
    "from replicate.client import Client\n",
    "\n",
    "replicate_client = Client(api_token=REPLICATE_API_TOKEN)"
   ]
  },
  {
   "cell_type": "code",
   "execution_count": 18,
   "metadata": {},
   "outputs": [],
   "source": [
    "reference_image_path = REFERENCES_DIR / \"reference5.jpg\"\n",
    "image = open(reference_image_path, 'rb')"
   ]
  },
  {
   "cell_type": "code",
   "execution_count": 19,
   "metadata": {},
   "outputs": [],
   "source": [
    "model = f\"{REPLICATE_MODEL}:{REPLICATE_MODEL_VERSION}\"\n",
    "prompt = \"a photo of TOK adult woman dressed up for a professional photo shoot\"\n",
    "\n",
    "responses = replicate_client.run(\n",
    "    model,\n",
    "    input={\n",
    "        \"image\": image,\n",
    "        \"model\": \"dev\",\n",
    "        \"prompt\": prompt,\n",
    "        \"num_outputs\": 4,\n",
    "        \"output_format\": \"jpg\",\n",
    "    }\n",
    ")\n",
    "image.close()"
   ]
  },
  {
   "cell_type": "code",
   "execution_count": 20,
   "metadata": {},
   "outputs": [],
   "source": [
    "import datetime\n",
    "session_id = datetime.datetime.now().strftime(\"%Y%m%d_%H%M_%S\")\n",
    "for i, output in enumerate(responses):\n",
    "    fname = f\"{i}.jpg\"\n",
    "    dirpath = GENERATED_DIR / str(session_id)\n",
    "    dirpath.mkdir(exist_ok=True, parents=True)\n",
    "    outpath = GENERATED_DIR / str(session_id) / fname\n",
    "    with open(outpath, 'wb') as f:\n",
    "        f.write(output.read())"
   ]
  },
  {
   "cell_type": "code",
   "execution_count": null,
   "metadata": {},
   "outputs": [],
   "source": []
  }
 ],
 "metadata": {
  "kernelspec": {
   "display_name": "fastapi-ai-photo-crik0lSL-py3.11",
   "language": "python",
   "name": "python3"
  },
  "language_info": {
   "codemirror_mode": {
    "name": "ipython",
    "version": 3
   },
   "file_extension": ".py",
   "mimetype": "text/x-python",
   "name": "python",
   "nbconvert_exporter": "python",
   "pygments_lexer": "ipython3",
   "version": "3.11.5"
  }
 },
 "nbformat": 4,
 "nbformat_minor": 2
}
