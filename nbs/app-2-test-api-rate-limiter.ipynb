{
 "cells": [
  {
   "cell_type": "code",
   "execution_count": 6,
   "metadata": {},
   "outputs": [
    {
     "data": {
      "text/plain": [
       "(200, {'Hello': 'World'}, None)"
      ]
     },
     "execution_count": 6,
     "metadata": {},
     "output_type": "execute_result"
    }
   ],
   "source": [
    "import httpx\n",
    "from decouple import AutoConfig\n",
    "\n",
    "config = AutoConfig(\".env\")\n",
    "\n",
    "API_ACCESS_KEY = config(\"API_ACCESS_KEY\")\n",
    "\n",
    "headers = {\n",
    "    \"X-API-Key\":API_ACCESS_KEY\n",
    "}\n",
    "\n",
    "endpoint = \"http://127.0.0.1:8000/\"\n",
    "res = httpx.get(endpoint, headers=headers)\n",
    "res.status_code, res.json(), res.headers.get(\"Retry-After\")"
   ]
  },
  {
   "cell_type": "code",
   "execution_count": null,
   "metadata": {},
   "outputs": [],
   "source": []
  }
 ],
 "metadata": {
  "kernelspec": {
   "display_name": "fastapi-ai-photo-crik0lSL-py3.11",
   "language": "python",
   "name": "python3"
  },
  "language_info": {
   "codemirror_mode": {
    "name": "ipython",
    "version": 3
   },
   "file_extension": ".py",
   "mimetype": "text/x-python",
   "name": "python",
   "nbconvert_exporter": "python",
   "pygments_lexer": "ipython3",
   "version": "3.11.5"
  }
 },
 "nbformat": 4,
 "nbformat_minor": 2
}
