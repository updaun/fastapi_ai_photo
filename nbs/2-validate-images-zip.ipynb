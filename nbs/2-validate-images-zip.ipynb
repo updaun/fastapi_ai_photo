{
 "cells": [
  {
   "cell_type": "code",
   "execution_count": 1,
   "metadata": {},
   "outputs": [],
   "source": [
    "import mimetypes\n",
    "import pathlib\n",
    "import shutil\n",
    "import tempfile\n",
    "\n",
    "from PIL import Image, ImageOps\n",
    "from pillow_heif import register_heif_opener\n",
    "\n",
    "register_heif_opener()"
   ]
  },
  {
   "cell_type": "code",
   "execution_count": 2,
   "metadata": {},
   "outputs": [],
   "source": [
    "NBS_DIR = pathlib.Path().resolve()\n",
    "REPO_DIR = NBS_DIR.parent\n",
    "DATA_DIR = REPO_DIR / \"data\"\n",
    "INPUTS_DIR = DATA_DIR / \"inputs\"\n",
    "OUTPUTS_DIR = DATA_DIR / \"outputs\""
   ]
  },
  {
   "cell_type": "code",
   "execution_count": 3,
   "metadata": {},
   "outputs": [],
   "source": [
    "def perform_is_image(path, require_can_open=True):\n",
    "    try:\n",
    "        guessed_type, encoding = mimetypes.guess_type(path)\n",
    "    except:\n",
    "        guessed_type = \"\"\n",
    "    guessed_image = \"image\" in guessed_type\n",
    "    if not guessed_image:\n",
    "        return False\n",
    "    if guessed_image and require_can_open:\n",
    "        try:\n",
    "            img_ = Image.open(path)\n",
    "        except:\n",
    "            return False\n",
    "    return True"
   ]
  },
  {
   "cell_type": "code",
   "execution_count": 4,
   "metadata": {},
   "outputs": [
    {
     "data": {
      "text/plain": [
       "[PosixPath('/home/lleague/projects/fastapi_ai_photo/data/inputs/12.png'),\n",
       " PosixPath('/home/lleague/projects/fastapi_ai_photo/data/inputs/10.png'),\n",
       " PosixPath('/home/lleague/projects/fastapi_ai_photo/data/inputs/4.jpeg'),\n",
       " PosixPath('/home/lleague/projects/fastapi_ai_photo/data/inputs/5.jpeg'),\n",
       " PosixPath('/home/lleague/projects/fastapi_ai_photo/data/inputs/7.jpeg'),\n",
       " PosixPath('/home/lleague/projects/fastapi_ai_photo/data/inputs/6.jpeg'),\n",
       " PosixPath('/home/lleague/projects/fastapi_ai_photo/data/inputs/1.jpeg'),\n",
       " PosixPath('/home/lleague/projects/fastapi_ai_photo/data/inputs/9.png'),\n",
       " PosixPath('/home/lleague/projects/fastapi_ai_photo/data/inputs/14.png'),\n",
       " PosixPath('/home/lleague/projects/fastapi_ai_photo/data/inputs/3.jpg'),\n",
       " PosixPath('/home/lleague/projects/fastapi_ai_photo/data/inputs/8.png'),\n",
       " PosixPath('/home/lleague/projects/fastapi_ai_photo/data/inputs/13.png'),\n",
       " PosixPath('/home/lleague/projects/fastapi_ai_photo/data/inputs/2.jpeg'),\n",
       " PosixPath('/home/lleague/projects/fastapi_ai_photo/data/inputs/11.png')]"
      ]
     },
     "execution_count": 4,
     "metadata": {},
     "output_type": "execute_result"
    }
   ],
   "source": [
    "image_file_paths = []\n",
    "for file_path in INPUTS_DIR.glob(\"*\"):\n",
    "    is_image = perform_is_image(file_path)\n",
    "    if not is_image:\n",
    "        continue\n",
    "    image_file_paths.append(file_path)\n",
    "\n",
    "image_file_paths"
   ]
  },
  {
   "cell_type": "code",
   "execution_count": 5,
   "metadata": {},
   "outputs": [],
   "source": [
    "OUTPUTS_DIR.mkdir(exist_ok=True, parents=True)"
   ]
  },
  {
   "cell_type": "code",
   "execution_count": 6,
   "metadata": {},
   "outputs": [
    {
     "data": {
      "text/plain": [
       "True"
      ]
     },
     "execution_count": 6,
     "metadata": {},
     "output_type": "execute_result"
    }
   ],
   "source": [
    "zip_outpath = OUTPUTS_DIR / \"images.zip\"\n",
    "zip_outpath.exists()"
   ]
  },
  {
   "cell_type": "code",
   "execution_count": 17,
   "metadata": {},
   "outputs": [],
   "source": [
    "with tempfile.TemporaryDirectory() as temp_dir:\n",
    "    for path in image_file_paths:\n",
    "        shutil.copy(path, temp_dir)\n",
    "    shutil.make_archive(zip_outpath.with_suffix(\"\"), \"zip\", temp_dir)"
   ]
  },
  {
   "cell_type": "code",
   "execution_count": null,
   "metadata": {},
   "outputs": [],
   "source": []
  }
 ],
 "metadata": {
  "kernelspec": {
   "display_name": "fastapi-ai-photo-crik0lSL-py3.11",
   "language": "python",
   "name": "python3"
  },
  "language_info": {
   "codemirror_mode": {
    "name": "ipython",
    "version": 3
   },
   "file_extension": ".py",
   "mimetype": "text/x-python",
   "name": "python",
   "nbconvert_exporter": "python",
   "pygments_lexer": "ipython3",
   "version": "3.11.5"
  }
 },
 "nbformat": 4,
 "nbformat_minor": 2
}
