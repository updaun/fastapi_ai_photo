{
 "cells": [
  {
   "cell_type": "code",
   "execution_count": 11,
   "metadata": {},
   "outputs": [],
   "source": [
    "import mimetypes\n",
    "import pathlib\n",
    "import shutil\n",
    "import tempfile"
   ]
  },
  {
   "cell_type": "code",
   "execution_count": 5,
   "metadata": {},
   "outputs": [],
   "source": [
    "NBS_DIR = pathlib.Path().resolve()\n",
    "REPO_DIR = NBS_DIR.parent\n",
    "DATA_DIR = REPO_DIR / \"data\"\n",
    "INPUTS_DIR = DATA_DIR / \"inputs\"\n",
    "OUTPUTS_DIR = DATA_DIR / \"outputs\""
   ]
  },
  {
   "cell_type": "code",
   "execution_count": 10,
   "metadata": {},
   "outputs": [
    {
     "name": "stdout",
     "output_type": "stream",
     "text": [
      "12.png image/png\n",
      "10.png image/png\n",
      "4.jpeg image/jpeg\n",
      "5.jpeg image/jpeg\n",
      "not-an-image.txt text/plain\n",
      "7.jpeg image/jpeg\n",
      "6.jpeg image/jpeg\n",
      "1.jpeg image/jpeg\n",
      "9.png image/png\n",
      "14.png image/png\n",
      "3.jpg image/jpeg\n",
      "8.png image/png\n",
      "13.png image/png\n",
      "2.jpeg image/jpeg\n",
      "11.png image/png\n"
     ]
    },
    {
     "data": {
      "text/plain": [
       "[PosixPath('/home/lleague/projects/fastapi_ai_photo/data/inputs/12.png'),\n",
       " PosixPath('/home/lleague/projects/fastapi_ai_photo/data/inputs/10.png'),\n",
       " PosixPath('/home/lleague/projects/fastapi_ai_photo/data/inputs/4.jpeg'),\n",
       " PosixPath('/home/lleague/projects/fastapi_ai_photo/data/inputs/5.jpeg'),\n",
       " PosixPath('/home/lleague/projects/fastapi_ai_photo/data/inputs/7.jpeg'),\n",
       " PosixPath('/home/lleague/projects/fastapi_ai_photo/data/inputs/6.jpeg'),\n",
       " PosixPath('/home/lleague/projects/fastapi_ai_photo/data/inputs/1.jpeg'),\n",
       " PosixPath('/home/lleague/projects/fastapi_ai_photo/data/inputs/9.png'),\n",
       " PosixPath('/home/lleague/projects/fastapi_ai_photo/data/inputs/14.png'),\n",
       " PosixPath('/home/lleague/projects/fastapi_ai_photo/data/inputs/3.jpg'),\n",
       " PosixPath('/home/lleague/projects/fastapi_ai_photo/data/inputs/8.png'),\n",
       " PosixPath('/home/lleague/projects/fastapi_ai_photo/data/inputs/13.png'),\n",
       " PosixPath('/home/lleague/projects/fastapi_ai_photo/data/inputs/2.jpeg'),\n",
       " PosixPath('/home/lleague/projects/fastapi_ai_photo/data/inputs/11.png')]"
      ]
     },
     "execution_count": 10,
     "metadata": {},
     "output_type": "execute_result"
    }
   ],
   "source": [
    "image_file_paths = []\n",
    "for file_path in INPUTS_DIR.glob(\"*\"):\n",
    "    guessed_type, encoding = mimetypes.guess_type(file_path)\n",
    "    print(file_path.name, guessed_type)\n",
    "    if \"image\" not in guessed_type:\n",
    "        continue\n",
    "    image_file_paths.append(file_path)\n",
    "\n",
    "image_file_paths"
   ]
  },
  {
   "cell_type": "code",
   "execution_count": 12,
   "metadata": {},
   "outputs": [],
   "source": [
    "OUTPUTS_DIR.mkdir(exist_ok=True, parents=True)"
   ]
  },
  {
   "cell_type": "code",
   "execution_count": 13,
   "metadata": {},
   "outputs": [
    {
     "data": {
      "text/plain": [
       "False"
      ]
     },
     "execution_count": 13,
     "metadata": {},
     "output_type": "execute_result"
    }
   ],
   "source": [
    "zip_outpath = OUTPUTS_DIR / \"images.zip\"\n",
    "zip_outpath.exists()"
   ]
  },
  {
   "cell_type": "code",
   "execution_count": 17,
   "metadata": {},
   "outputs": [],
   "source": [
    "with tempfile.TemporaryDirectory() as temp_dir:\n",
    "    for path in image_file_paths:\n",
    "        shutil.copy(path, temp_dir)\n",
    "    shutil.make_archive(zip_outpath.with_suffix(\"\"), \"zip\", temp_dir)"
   ]
  },
  {
   "cell_type": "code",
   "execution_count": null,
   "metadata": {},
   "outputs": [],
   "source": []
  }
 ],
 "metadata": {
  "kernelspec": {
   "display_name": "fastapi-ai-photo-crik0lSL-py3.11",
   "language": "python",
   "name": "python3"
  },
  "language_info": {
   "codemirror_mode": {
    "name": "ipython",
    "version": 3
   },
   "file_extension": ".py",
   "mimetype": "text/x-python",
   "name": "python",
   "nbconvert_exporter": "python",
   "pygments_lexer": "ipython3",
   "version": "3.11.5"
  }
 },
 "nbformat": 4,
 "nbformat_minor": 2
}
